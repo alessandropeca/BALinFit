{
 "cells": [
  {
   "cell_type": "code",
   "execution_count": 14,
   "metadata": {},
   "outputs": [],
   "source": [
    "import numpy as np\n",
    "from BALinFit.bayes_linfit import bayesian_regression_mcmc\n",
    "\n",
    "import pandas as pd\n",
    "import matplotlib.pyplot as plt"
   ]
  },
  {
   "cell_type": "code",
   "execution_count": 15,
   "metadata": {},
   "outputs": [],
   "source": [
    "df = pd.read_csv('test.csv', names=['id', 'x', 'xerrl', 'xerru', 'y', 'yerrl', 'yerru'], header=0)\n",
    "df = df = df[~df['x'].isna() & (df['x'] != -np.inf)]"
   ]
  },
  {
   "cell_type": "code",
   "execution_count": 16,
   "metadata": {},
   "outputs": [
    {
     "data": {
      "text/html": [
       "<div>\n",
       "<style scoped>\n",
       "    .dataframe tbody tr th:only-of-type {\n",
       "        vertical-align: middle;\n",
       "    }\n",
       "\n",
       "    .dataframe tbody tr th {\n",
       "        vertical-align: top;\n",
       "    }\n",
       "\n",
       "    .dataframe thead th {\n",
       "        text-align: right;\n",
       "    }\n",
       "</style>\n",
       "<table border=\"1\" class=\"dataframe\">\n",
       "  <thead>\n",
       "    <tr style=\"text-align: right;\">\n",
       "      <th></th>\n",
       "      <th>id</th>\n",
       "      <th>x</th>\n",
       "      <th>xerrl</th>\n",
       "      <th>xerru</th>\n",
       "      <th>y</th>\n",
       "      <th>yerrl</th>\n",
       "      <th>yerru</th>\n",
       "    </tr>\n",
       "  </thead>\n",
       "  <tbody>\n",
       "    <tr>\n",
       "      <th>0</th>\n",
       "      <td>1</td>\n",
       "      <td>-1.284693</td>\n",
       "      <td>0.176102</td>\n",
       "      <td>0.216866</td>\n",
       "      <td>1.644104</td>\n",
       "      <td>0.193874</td>\n",
       "      <td>0.231135</td>\n",
       "    </tr>\n",
       "    <tr>\n",
       "      <th>2</th>\n",
       "      <td>3</td>\n",
       "      <td>-0.810841</td>\n",
       "      <td>0.202710</td>\n",
       "      <td>0.194648</td>\n",
       "      <td>1.707728</td>\n",
       "      <td>0.192076</td>\n",
       "      <td>0.213778</td>\n",
       "    </tr>\n",
       "    <tr>\n",
       "      <th>4</th>\n",
       "      <td>5</td>\n",
       "      <td>-0.321727</td>\n",
       "      <td>0.178127</td>\n",
       "      <td>0.184521</td>\n",
       "      <td>1.717245</td>\n",
       "      <td>0.099932</td>\n",
       "      <td>0.110270</td>\n",
       "    </tr>\n",
       "    <tr>\n",
       "      <th>5</th>\n",
       "      <td>6</td>\n",
       "      <td>-0.690510</td>\n",
       "      <td>0.281219</td>\n",
       "      <td>0.180548</td>\n",
       "      <td>1.786965</td>\n",
       "      <td>0.147592</td>\n",
       "      <td>0.672152</td>\n",
       "    </tr>\n",
       "    <tr>\n",
       "      <th>6</th>\n",
       "      <td>7</td>\n",
       "      <td>-0.170246</td>\n",
       "      <td>0.185447</td>\n",
       "      <td>0.223091</td>\n",
       "      <td>1.952145</td>\n",
       "      <td>0.255089</td>\n",
       "      <td>0.364265</td>\n",
       "    </tr>\n",
       "    <tr>\n",
       "      <th>7</th>\n",
       "      <td>8</td>\n",
       "      <td>-0.444281</td>\n",
       "      <td>0.176657</td>\n",
       "      <td>0.191723</td>\n",
       "      <td>1.708126</td>\n",
       "      <td>0.123847</td>\n",
       "      <td>0.139456</td>\n",
       "    </tr>\n",
       "    <tr>\n",
       "      <th>8</th>\n",
       "      <td>9</td>\n",
       "      <td>-1.458283</td>\n",
       "      <td>0.179785</td>\n",
       "      <td>0.179486</td>\n",
       "      <td>1.604787</td>\n",
       "      <td>0.102782</td>\n",
       "      <td>0.111156</td>\n",
       "    </tr>\n",
       "    <tr>\n",
       "      <th>9</th>\n",
       "      <td>10</td>\n",
       "      <td>-0.259773</td>\n",
       "      <td>0.176361</td>\n",
       "      <td>0.179733</td>\n",
       "      <td>1.719006</td>\n",
       "      <td>0.068193</td>\n",
       "      <td>0.082332</td>\n",
       "    </tr>\n",
       "    <tr>\n",
       "      <th>11</th>\n",
       "      <td>12</td>\n",
       "      <td>-0.893923</td>\n",
       "      <td>0.182282</td>\n",
       "      <td>0.206601</td>\n",
       "      <td>1.880820</td>\n",
       "      <td>0.203829</td>\n",
       "      <td>0.305401</td>\n",
       "    </tr>\n",
       "    <tr>\n",
       "      <th>12</th>\n",
       "      <td>13</td>\n",
       "      <td>-0.256131</td>\n",
       "      <td>0.201143</td>\n",
       "      <td>0.177858</td>\n",
       "      <td>1.864040</td>\n",
       "      <td>0.128695</td>\n",
       "      <td>0.152877</td>\n",
       "    </tr>\n",
       "    <tr>\n",
       "      <th>17</th>\n",
       "      <td>18</td>\n",
       "      <td>-1.090510</td>\n",
       "      <td>0.183554</td>\n",
       "      <td>0.180648</td>\n",
       "      <td>1.742836</td>\n",
       "      <td>0.135401</td>\n",
       "      <td>0.137322</td>\n",
       "    </tr>\n",
       "    <tr>\n",
       "      <th>18</th>\n",
       "      <td>19</td>\n",
       "      <td>-0.405723</td>\n",
       "      <td>0.190401</td>\n",
       "      <td>0.181409</td>\n",
       "      <td>1.773377</td>\n",
       "      <td>0.030512</td>\n",
       "      <td>0.051077</td>\n",
       "    </tr>\n",
       "  </tbody>\n",
       "</table>\n",
       "</div>"
      ],
      "text/plain": [
       "    id         x     xerrl     xerru         y     yerrl     yerru\n",
       "0    1 -1.284693  0.176102  0.216866  1.644104  0.193874  0.231135\n",
       "2    3 -0.810841  0.202710  0.194648  1.707728  0.192076  0.213778\n",
       "4    5 -0.321727  0.178127  0.184521  1.717245  0.099932  0.110270\n",
       "5    6 -0.690510  0.281219  0.180548  1.786965  0.147592  0.672152\n",
       "6    7 -0.170246  0.185447  0.223091  1.952145  0.255089  0.364265\n",
       "7    8 -0.444281  0.176657  0.191723  1.708126  0.123847  0.139456\n",
       "8    9 -1.458283  0.179785  0.179486  1.604787  0.102782  0.111156\n",
       "9   10 -0.259773  0.176361  0.179733  1.719006  0.068193  0.082332\n",
       "11  12 -0.893923  0.182282  0.206601  1.880820  0.203829  0.305401\n",
       "12  13 -0.256131  0.201143  0.177858  1.864040  0.128695  0.152877\n",
       "17  18 -1.090510  0.183554  0.180648  1.742836  0.135401  0.137322\n",
       "18  19 -0.405723  0.190401  0.181409  1.773377  0.030512  0.051077"
      ]
     },
     "execution_count": 16,
     "metadata": {},
     "output_type": "execute_result"
    }
   ],
   "source": [
    "df"
   ]
  },
  {
   "cell_type": "code",
   "execution_count": 17,
   "metadata": {},
   "outputs": [
    {
     "name": "stderr",
     "output_type": "stream",
     "text": [
      "Running MCMC realizations:   0%|          | 0/100 [00:00<?, ?it/s]Traceback (most recent call last):\n",
      "  File \"/opt/anaconda3/lib/python3.11/site-packages/emcee/ensemble.py\", line 640, in __call__\n",
      "    return self.f(x, *self.args, **self.kwargs)\n",
      "           ^^^^^^^^^^^^^^^^^^^^^^^^^^^^^^^^^^^^\n",
      "  File \"/Users/xpecax/Software/BALinFit/BALinFit/bayes_linfit.py\", line 42, in log_probability\n",
      "    lp = log_prior(theta)\n",
      "         ^^^^^^^^^^^^^^^^\n",
      "  File \"/Users/xpecax/Software/BALinFit/BALinFit/bayes_linfit.py\", line 34, in log_prior\n",
      "    intercept, slope, sigma_int = theta\n",
      "    ^^^^^^^^^^^^^^^^^^^^^^^^^^^\n",
      "ValueError: not enough values to unpack (expected 3, got 2)\n",
      "Running MCMC realizations:   0%|          | 0/100 [00:00<?, ?it/s]"
     ]
    },
    {
     "name": "stdout",
     "output_type": "stream",
     "text": [
      "emcee: Exception while calling your likelihood function:\n",
      "  params: [-1.20267236 -0.03505409]\n",
      "  args: (array([-1.29094549, -0.86917713, -0.20612602, -0.74280647, -0.05518841,\n",
      "       -0.47809029, -1.48401108, -0.08445671, -0.95465932, -0.40664677,\n",
      "       -0.93022783, -0.40275016]), array([1.54971146, 1.73965566, 1.60588204, 1.8996453 , 2.32322327,\n",
      "       1.70039147, 1.60458654, 1.63731467, 2.11935831, 1.85844319,\n",
      "       1.85836688, 1.86407425]))\n",
      "  kwargs: {}\n",
      "  exception:\n"
     ]
    },
    {
     "name": "stderr",
     "output_type": "stream",
     "text": [
      "\n"
     ]
    },
    {
     "ename": "ValueError",
     "evalue": "not enough values to unpack (expected 3, got 2)",
     "output_type": "error",
     "traceback": [
      "\u001b[0;31m---------------------------------------------------------------------------\u001b[0m",
      "\u001b[0;31mValueError\u001b[0m                                Traceback (most recent call last)",
      "Cell \u001b[0;32mIn[17], line 1\u001b[0m\n\u001b[0;32m----> 1\u001b[0m results \u001b[38;5;241m=\u001b[39m bayesian_regression_mcmc(\n\u001b[1;32m      2\u001b[0m     x\u001b[38;5;241m=\u001b[39mdf[\u001b[38;5;124m'\u001b[39m\u001b[38;5;124mx\u001b[39m\u001b[38;5;124m'\u001b[39m]\u001b[38;5;241m.\u001b[39mvalues, \n\u001b[1;32m      3\u001b[0m     y\u001b[38;5;241m=\u001b[39mdf[\u001b[38;5;124m'\u001b[39m\u001b[38;5;124my\u001b[39m\u001b[38;5;124m'\u001b[39m]\u001b[38;5;241m.\u001b[39mvalues, \n\u001b[1;32m      4\u001b[0m     y_err_lower\u001b[38;5;241m=\u001b[39mdf[\u001b[38;5;124m'\u001b[39m\u001b[38;5;124myerrl\u001b[39m\u001b[38;5;124m'\u001b[39m]\u001b[38;5;241m.\u001b[39mvalues\u001b[38;5;241m/\u001b[39m\u001b[38;5;241m1.645\u001b[39m, \n\u001b[1;32m      5\u001b[0m     y_err_upper\u001b[38;5;241m=\u001b[39mdf[\u001b[38;5;124m'\u001b[39m\u001b[38;5;124myerru\u001b[39m\u001b[38;5;124m'\u001b[39m]\u001b[38;5;241m.\u001b[39mvalues\u001b[38;5;241m/\u001b[39m\u001b[38;5;241m1.645\u001b[39m,\n\u001b[1;32m      6\u001b[0m     x_err_lower\u001b[38;5;241m=\u001b[39mdf[\u001b[38;5;124m'\u001b[39m\u001b[38;5;124mxerrl\u001b[39m\u001b[38;5;124m'\u001b[39m]\u001b[38;5;241m.\u001b[39mvalues\u001b[38;5;241m/\u001b[39m\u001b[38;5;241m1.645\u001b[39m, \n\u001b[1;32m      7\u001b[0m     x_err_upper\u001b[38;5;241m=\u001b[39mdf[\u001b[38;5;124m'\u001b[39m\u001b[38;5;124mxerru\u001b[39m\u001b[38;5;124m'\u001b[39m]\u001b[38;5;241m.\u001b[39mvalues\u001b[38;5;241m/\u001b[39m\u001b[38;5;241m1.645\u001b[39m,\n\u001b[1;32m      8\u001b[0m     x_min\u001b[38;5;241m=\u001b[39m\u001b[38;5;241m-\u001b[39m\u001b[38;5;241m2\u001b[39m, x_max\u001b[38;5;241m=\u001b[39m\u001b[38;5;241m0.5\u001b[39m,\n\u001b[1;32m      9\u001b[0m     num_realizations\u001b[38;5;241m=\u001b[39m\u001b[38;5;241m100\u001b[39m\n\u001b[1;32m     10\u001b[0m )\n\u001b[1;32m     11\u001b[0m results\n",
      "File \u001b[0;32m~/Software/BALinFit/BALinFit/bayes_linfit.py:87\u001b[0m, in \u001b[0;36mbayesian_regression_mcmc\u001b[0;34m(x, y, x_err_lower, x_err_upper, y_err_lower, y_err_upper, num_realizations, n_walkers, n_steps, x_min, x_max)\u001b[0m\n\u001b[1;32m     85\u001b[0m \u001b[38;5;66;03m# Run MCMC using emcee\u001b[39;00m\n\u001b[1;32m     86\u001b[0m sampler \u001b[38;5;241m=\u001b[39m emcee\u001b[38;5;241m.\u001b[39mEnsembleSampler(n_walkers, \u001b[38;5;241m2\u001b[39m, log_probability, args\u001b[38;5;241m=\u001b[39m(x_sampled, y_sampled))\n\u001b[0;32m---> 87\u001b[0m sampler\u001b[38;5;241m.\u001b[39mrun_mcmc(pos, n_steps, progress\u001b[38;5;241m=\u001b[39m\u001b[38;5;28;01mFalse\u001b[39;00m)\n\u001b[1;32m     89\u001b[0m \u001b[38;5;66;03m# Extract samples\u001b[39;00m\n\u001b[1;32m     90\u001b[0m samples \u001b[38;5;241m=\u001b[39m sampler\u001b[38;5;241m.\u001b[39mget_chain(discard\u001b[38;5;241m=\u001b[39m\u001b[38;5;241m100\u001b[39m, thin\u001b[38;5;241m=\u001b[39m\u001b[38;5;241m10\u001b[39m, flat\u001b[38;5;241m=\u001b[39m\u001b[38;5;28;01mTrue\u001b[39;00m)\n",
      "File \u001b[0;32m/opt/anaconda3/lib/python3.11/site-packages/emcee/ensemble.py:450\u001b[0m, in \u001b[0;36mEnsembleSampler.run_mcmc\u001b[0;34m(self, initial_state, nsteps, **kwargs)\u001b[0m\n\u001b[1;32m    447\u001b[0m     initial_state \u001b[38;5;241m=\u001b[39m \u001b[38;5;28mself\u001b[39m\u001b[38;5;241m.\u001b[39m_previous_state\n\u001b[1;32m    449\u001b[0m results \u001b[38;5;241m=\u001b[39m \u001b[38;5;28;01mNone\u001b[39;00m\n\u001b[0;32m--> 450\u001b[0m \u001b[38;5;28;01mfor\u001b[39;00m results \u001b[38;5;129;01min\u001b[39;00m \u001b[38;5;28mself\u001b[39m\u001b[38;5;241m.\u001b[39msample(initial_state, iterations\u001b[38;5;241m=\u001b[39mnsteps, \u001b[38;5;241m*\u001b[39m\u001b[38;5;241m*\u001b[39mkwargs):\n\u001b[1;32m    451\u001b[0m     \u001b[38;5;28;01mpass\u001b[39;00m\n\u001b[1;32m    453\u001b[0m \u001b[38;5;66;03m# Store so that the ``initial_state=None`` case will work\u001b[39;00m\n",
      "File \u001b[0;32m/opt/anaconda3/lib/python3.11/site-packages/emcee/ensemble.py:351\u001b[0m, in \u001b[0;36mEnsembleSampler.sample\u001b[0;34m(self, initial_state, log_prob0, rstate0, blobs0, iterations, tune, skip_initial_state_check, thin_by, thin, store, progress, progress_kwargs)\u001b[0m\n\u001b[1;32m    349\u001b[0m     state\u001b[38;5;241m.\u001b[39mblobs \u001b[38;5;241m=\u001b[39m blobs0\n\u001b[1;32m    350\u001b[0m \u001b[38;5;28;01mif\u001b[39;00m state\u001b[38;5;241m.\u001b[39mlog_prob \u001b[38;5;129;01mis\u001b[39;00m \u001b[38;5;28;01mNone\u001b[39;00m:\n\u001b[0;32m--> 351\u001b[0m     state\u001b[38;5;241m.\u001b[39mlog_prob, state\u001b[38;5;241m.\u001b[39mblobs \u001b[38;5;241m=\u001b[39m \u001b[38;5;28mself\u001b[39m\u001b[38;5;241m.\u001b[39mcompute_log_prob(state\u001b[38;5;241m.\u001b[39mcoords)\n\u001b[1;32m    352\u001b[0m \u001b[38;5;28;01mif\u001b[39;00m np\u001b[38;5;241m.\u001b[39mshape(state\u001b[38;5;241m.\u001b[39mlog_prob) \u001b[38;5;241m!=\u001b[39m (\u001b[38;5;28mself\u001b[39m\u001b[38;5;241m.\u001b[39mnwalkers,):\n\u001b[1;32m    353\u001b[0m     \u001b[38;5;28;01mraise\u001b[39;00m \u001b[38;5;167;01mValueError\u001b[39;00m(\u001b[38;5;124m\"\u001b[39m\u001b[38;5;124mincompatible input dimensions\u001b[39m\u001b[38;5;124m\"\u001b[39m)\n",
      "File \u001b[0;32m/opt/anaconda3/lib/python3.11/site-packages/emcee/ensemble.py:496\u001b[0m, in \u001b[0;36mEnsembleSampler.compute_log_prob\u001b[0;34m(self, coords)\u001b[0m\n\u001b[1;32m    494\u001b[0m     \u001b[38;5;28;01melse\u001b[39;00m:\n\u001b[1;32m    495\u001b[0m         map_func \u001b[38;5;241m=\u001b[39m \u001b[38;5;28mmap\u001b[39m\n\u001b[0;32m--> 496\u001b[0m     results \u001b[38;5;241m=\u001b[39m \u001b[38;5;28mlist\u001b[39m(map_func(\u001b[38;5;28mself\u001b[39m\u001b[38;5;241m.\u001b[39mlog_prob_fn, p))\n\u001b[1;32m    498\u001b[0m \u001b[38;5;28;01mtry\u001b[39;00m:\n\u001b[1;32m    499\u001b[0m     \u001b[38;5;66;03m# perhaps log_prob_fn returns blobs?\u001b[39;00m\n\u001b[1;32m    500\u001b[0m \n\u001b[0;32m   (...)\u001b[0m\n\u001b[1;32m    504\u001b[0m     \u001b[38;5;66;03m# l is a length-1 array, np.array([1.234]). In that case blob\u001b[39;00m\n\u001b[1;32m    505\u001b[0m     \u001b[38;5;66;03m# will become an empty list.\u001b[39;00m\n\u001b[1;32m    506\u001b[0m     blob \u001b[38;5;241m=\u001b[39m [l[\u001b[38;5;241m1\u001b[39m:] \u001b[38;5;28;01mfor\u001b[39;00m l \u001b[38;5;129;01min\u001b[39;00m results \u001b[38;5;28;01mif\u001b[39;00m \u001b[38;5;28mlen\u001b[39m(l) \u001b[38;5;241m>\u001b[39m \u001b[38;5;241m1\u001b[39m]\n",
      "File \u001b[0;32m/opt/anaconda3/lib/python3.11/site-packages/emcee/ensemble.py:640\u001b[0m, in \u001b[0;36m_FunctionWrapper.__call__\u001b[0;34m(self, x)\u001b[0m\n\u001b[1;32m    638\u001b[0m \u001b[38;5;28;01mdef\u001b[39;00m \u001b[38;5;21m__call__\u001b[39m(\u001b[38;5;28mself\u001b[39m, x):\n\u001b[1;32m    639\u001b[0m     \u001b[38;5;28;01mtry\u001b[39;00m:\n\u001b[0;32m--> 640\u001b[0m         \u001b[38;5;28;01mreturn\u001b[39;00m \u001b[38;5;28mself\u001b[39m\u001b[38;5;241m.\u001b[39mf(x, \u001b[38;5;241m*\u001b[39m\u001b[38;5;28mself\u001b[39m\u001b[38;5;241m.\u001b[39margs, \u001b[38;5;241m*\u001b[39m\u001b[38;5;241m*\u001b[39m\u001b[38;5;28mself\u001b[39m\u001b[38;5;241m.\u001b[39mkwargs)\n\u001b[1;32m    641\u001b[0m     \u001b[38;5;28;01mexcept\u001b[39;00m:  \u001b[38;5;66;03m# pragma: no cover\u001b[39;00m\n\u001b[1;32m    642\u001b[0m         \u001b[38;5;28;01mimport\u001b[39;00m \u001b[38;5;21;01mtraceback\u001b[39;00m\n",
      "File \u001b[0;32m~/Software/BALinFit/BALinFit/bayes_linfit.py:42\u001b[0m, in \u001b[0;36mbayesian_regression_mcmc.<locals>.log_probability\u001b[0;34m(theta, x, y)\u001b[0m\n\u001b[1;32m     40\u001b[0m \u001b[38;5;28;01mdef\u001b[39;00m \u001b[38;5;21mlog_probability\u001b[39m(theta, x, y):\n\u001b[1;32m     41\u001b[0m \u001b[38;5;250m    \u001b[39m\u001b[38;5;124;03m\"\"\"Combined log-posterior = log-prior + log-likelihood\"\"\"\u001b[39;00m\n\u001b[0;32m---> 42\u001b[0m     lp \u001b[38;5;241m=\u001b[39m log_prior(theta)\n\u001b[1;32m     43\u001b[0m     \u001b[38;5;28;01mif\u001b[39;00m \u001b[38;5;129;01mnot\u001b[39;00m np\u001b[38;5;241m.\u001b[39misfinite(lp):\n\u001b[1;32m     44\u001b[0m         \u001b[38;5;28;01mreturn\u001b[39;00m \u001b[38;5;241m-\u001b[39mnp\u001b[38;5;241m.\u001b[39minf\n",
      "File \u001b[0;32m~/Software/BALinFit/BALinFit/bayes_linfit.py:34\u001b[0m, in \u001b[0;36mbayesian_regression_mcmc.<locals>.log_prior\u001b[0;34m(theta)\u001b[0m\n\u001b[1;32m     33\u001b[0m \u001b[38;5;28;01mdef\u001b[39;00m \u001b[38;5;21mlog_prior\u001b[39m(theta):\n\u001b[0;32m---> 34\u001b[0m     intercept, slope, sigma_int \u001b[38;5;241m=\u001b[39m theta\n\u001b[1;32m     35\u001b[0m     \u001b[38;5;28;01mif\u001b[39;00m \u001b[38;5;241m-\u001b[39m\u001b[38;5;241m10\u001b[39m \u001b[38;5;241m<\u001b[39m intercept \u001b[38;5;241m<\u001b[39m \u001b[38;5;241m10\u001b[39m \u001b[38;5;129;01mand\u001b[39;00m \u001b[38;5;241m-\u001b[39m\u001b[38;5;241m10\u001b[39m \u001b[38;5;241m<\u001b[39m slope \u001b[38;5;241m<\u001b[39m \u001b[38;5;241m10\u001b[39m \u001b[38;5;129;01mand\u001b[39;00m \u001b[38;5;241m0\u001b[39m \u001b[38;5;241m<\u001b[39m sigma_int \u001b[38;5;241m<\u001b[39m \u001b[38;5;241m2\u001b[39m:\n\u001b[1;32m     36\u001b[0m         \u001b[38;5;28;01mreturn\u001b[39;00m \u001b[38;5;241m0.0\u001b[39m  \u001b[38;5;66;03m# Flat prior\u001b[39;00m\n",
      "\u001b[0;31mValueError\u001b[0m: not enough values to unpack (expected 3, got 2)"
     ]
    }
   ],
   "source": [
    "results = bayesian_regression_mcmc(\n",
    "    x=df['x'].values, \n",
    "    y=df['y'].values, \n",
    "    y_err_lower=df['yerrl'].values/1.645, \n",
    "    y_err_upper=df['yerru'].values/1.645,\n",
    "    x_err_lower=df['xerrl'].values/1.645, \n",
    "    x_err_upper=df['xerru'].values/1.645,\n",
    "    x_min=-2, x_max=0.5,\n",
    "    num_realizations=100\n",
    ")\n",
    "results"
   ]
  },
  {
   "cell_type": "code",
   "execution_count": null,
   "metadata": {},
   "outputs": [
    {
     "data": {
      "text/plain": [
       "<matplotlib.legend.Legend at 0x33906eb10>"
      ]
     },
     "execution_count": 15,
     "metadata": {},
     "output_type": "execute_result"
    },
    {
     "data": {
      "image/png": "[encoded data removed]",
      "text/plain": [
       "<Figure size 640x480 with 1 Axes>"
      ]
     },
     "metadata": {},
     "output_type": "display_data"
    }
   ],
   "source": [
    "fig, ax = plt.subplots()\n",
    "ax.errorbar(df['x'].values, df['y'].values, yerr=[df['yerrl'].values, df['yerru'].values], xerr=[df['xerrl'].values, df['xerru'].values], fmt='o', label='Data', color='black')\n",
    "ax.plot(results['x_plot'], results['y_median'], color='tab:blue')#, label=f'Best Fit: y = {results['slope_median']:.2f} ± {results['slope_err_lower']:.2f}/{results['slope_err_upper']:.2f} x + {results['intercept_median']:.2f} ± {results['intercept_err_lower']:.2f}/{results['intercept_err_upper']:.2f}')\n",
    "ax.fill_between(results['x_plot'], results['y_lower'], results['y_upper'], color='tab:blue', alpha=0.3, label='68% Confidence Interval')\n",
    "ax.set_xlabel('X')\n",
    "ax.set_ylabel('Y')\n",
    "ax.legend()"
   ]
  }
 ],
 "metadata": {
  "kernelspec": {
   "display_name": "base",
   "language": "python",
   "name": "python3"
  },
  "language_info": {
   "codemirror_mode": {
    "name": "ipython",
    "version": 3
   },
   "file_extension": ".py",
   "mimetype": "text/x-python",
   "name": "python",
   "nbconvert_exporter": "python",
   "pygments_lexer": "ipython3",
   "version": "3.11.8"
  }
 },
 "nbformat": 4,
 "nbformat_minor": 2
}
